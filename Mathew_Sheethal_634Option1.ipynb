{
  "nbformat": 4,
  "nbformat_minor": 0,
  "metadata": {
    "colab": {
      "name": "Mathew_Sheethal_634Option1.ipynb",
      "provenance": [],
      "collapsed_sections": []
    },
    "kernelspec": {
      "name": "python3",
      "display_name": "Python 3"
    },
    "language_info": {
      "name": "python"
    }
  },
  "cells": [
    {
      "cell_type": "code",
      "metadata": {
        "colab": {
          "base_uri": "https://localhost:8080/",
          "height": 204
        },
        "id": "vbKZSkhjVp6I",
        "outputId": "0b00edcf-b95c-4573-f759-a7f7f2ad7c05"
      },
      "source": [
        "from mlxtend.plotting import plot_decision_regions\n",
        "import numpy as np\n",
        "import pandas as pd\n",
        "import matplotlib.pyplot as plt\n",
        "import warnings\n",
        "warnings.filterwarnings('ignore')\n",
        "%matplotlib inline\n",
        "\n",
        "#read dataset\n",
        "attributes = pd.read_csv('diabetes.csv')\n",
        "#printing first 5 lines of dataset\n",
        "attributes.head(5)"
      ],
      "execution_count": 76,
      "outputs": [
        {
          "output_type": "execute_result",
          "data": {
            "text/html": [
              "<div>\n",
              "<style scoped>\n",
              "    .dataframe tbody tr th:only-of-type {\n",
              "        vertical-align: middle;\n",
              "    }\n",
              "\n",
              "    .dataframe tbody tr th {\n",
              "        vertical-align: top;\n",
              "    }\n",
              "\n",
              "    .dataframe thead th {\n",
              "        text-align: right;\n",
              "    }\n",
              "</style>\n",
              "<table border=\"1\" class=\"dataframe\">\n",
              "  <thead>\n",
              "    <tr style=\"text-align: right;\">\n",
              "      <th></th>\n",
              "      <th>Pregnancies</th>\n",
              "      <th>Glucose</th>\n",
              "      <th>BloodPressure</th>\n",
              "      <th>SkinThickness</th>\n",
              "      <th>Insulin</th>\n",
              "      <th>BMI</th>\n",
              "      <th>DiabetesPedigreeFunction</th>\n",
              "      <th>Age</th>\n",
              "      <th>Outcome</th>\n",
              "    </tr>\n",
              "  </thead>\n",
              "  <tbody>\n",
              "    <tr>\n",
              "      <th>0</th>\n",
              "      <td>6</td>\n",
              "      <td>148</td>\n",
              "      <td>72</td>\n",
              "      <td>35</td>\n",
              "      <td>0</td>\n",
              "      <td>33.6</td>\n",
              "      <td>0.627</td>\n",
              "      <td>50</td>\n",
              "      <td>1</td>\n",
              "    </tr>\n",
              "    <tr>\n",
              "      <th>1</th>\n",
              "      <td>1</td>\n",
              "      <td>85</td>\n",
              "      <td>66</td>\n",
              "      <td>29</td>\n",
              "      <td>0</td>\n",
              "      <td>26.6</td>\n",
              "      <td>0.351</td>\n",
              "      <td>31</td>\n",
              "      <td>0</td>\n",
              "    </tr>\n",
              "    <tr>\n",
              "      <th>2</th>\n",
              "      <td>8</td>\n",
              "      <td>183</td>\n",
              "      <td>64</td>\n",
              "      <td>0</td>\n",
              "      <td>0</td>\n",
              "      <td>23.3</td>\n",
              "      <td>0.672</td>\n",
              "      <td>32</td>\n",
              "      <td>1</td>\n",
              "    </tr>\n",
              "    <tr>\n",
              "      <th>3</th>\n",
              "      <td>1</td>\n",
              "      <td>89</td>\n",
              "      <td>66</td>\n",
              "      <td>23</td>\n",
              "      <td>94</td>\n",
              "      <td>28.1</td>\n",
              "      <td>0.167</td>\n",
              "      <td>21</td>\n",
              "      <td>0</td>\n",
              "    </tr>\n",
              "    <tr>\n",
              "      <th>4</th>\n",
              "      <td>0</td>\n",
              "      <td>137</td>\n",
              "      <td>40</td>\n",
              "      <td>35</td>\n",
              "      <td>168</td>\n",
              "      <td>43.1</td>\n",
              "      <td>2.288</td>\n",
              "      <td>33</td>\n",
              "      <td>1</td>\n",
              "    </tr>\n",
              "  </tbody>\n",
              "</table>\n",
              "</div>"
            ],
            "text/plain": [
              "   Pregnancies  Glucose  BloodPressure  ...  DiabetesPedigreeFunction  Age  Outcome\n",
              "0            6      148             72  ...                     0.627   50        1\n",
              "1            1       85             66  ...                     0.351   31        0\n",
              "2            8      183             64  ...                     0.672   32        1\n",
              "3            1       89             66  ...                     0.167   21        0\n",
              "4            0      137             40  ...                     2.288   33        1\n",
              "\n",
              "[5 rows x 9 columns]"
            ]
          },
          "metadata": {},
          "execution_count": 76
        }
      ]
    },
    {
      "cell_type": "code",
      "metadata": {
        "colab": {
          "base_uri": "https://localhost:8080/",
          "height": 317
        },
        "id": "--A8yy9yXDkP",
        "outputId": "219528f5-4b5f-48f7-903d-045143502589"
      },
      "source": [
        "#idetify anomalies using describe()\n",
        "attributes.describe()"
      ],
      "execution_count": 77,
      "outputs": [
        {
          "output_type": "execute_result",
          "data": {
            "text/html": [
              "<div>\n",
              "<style scoped>\n",
              "    .dataframe tbody tr th:only-of-type {\n",
              "        vertical-align: middle;\n",
              "    }\n",
              "\n",
              "    .dataframe tbody tr th {\n",
              "        vertical-align: top;\n",
              "    }\n",
              "\n",
              "    .dataframe thead th {\n",
              "        text-align: right;\n",
              "    }\n",
              "</style>\n",
              "<table border=\"1\" class=\"dataframe\">\n",
              "  <thead>\n",
              "    <tr style=\"text-align: right;\">\n",
              "      <th></th>\n",
              "      <th>Pregnancies</th>\n",
              "      <th>Glucose</th>\n",
              "      <th>BloodPressure</th>\n",
              "      <th>SkinThickness</th>\n",
              "      <th>Insulin</th>\n",
              "      <th>BMI</th>\n",
              "      <th>DiabetesPedigreeFunction</th>\n",
              "      <th>Age</th>\n",
              "      <th>Outcome</th>\n",
              "    </tr>\n",
              "  </thead>\n",
              "  <tbody>\n",
              "    <tr>\n",
              "      <th>count</th>\n",
              "      <td>768.000000</td>\n",
              "      <td>768.000000</td>\n",
              "      <td>768.000000</td>\n",
              "      <td>768.000000</td>\n",
              "      <td>768.000000</td>\n",
              "      <td>768.000000</td>\n",
              "      <td>768.000000</td>\n",
              "      <td>768.000000</td>\n",
              "      <td>768.000000</td>\n",
              "    </tr>\n",
              "    <tr>\n",
              "      <th>mean</th>\n",
              "      <td>3.845052</td>\n",
              "      <td>120.894531</td>\n",
              "      <td>69.105469</td>\n",
              "      <td>20.536458</td>\n",
              "      <td>79.799479</td>\n",
              "      <td>31.992578</td>\n",
              "      <td>0.471876</td>\n",
              "      <td>33.240885</td>\n",
              "      <td>0.348958</td>\n",
              "    </tr>\n",
              "    <tr>\n",
              "      <th>std</th>\n",
              "      <td>3.369578</td>\n",
              "      <td>31.972618</td>\n",
              "      <td>19.355807</td>\n",
              "      <td>15.952218</td>\n",
              "      <td>115.244002</td>\n",
              "      <td>7.884160</td>\n",
              "      <td>0.331329</td>\n",
              "      <td>11.760232</td>\n",
              "      <td>0.476951</td>\n",
              "    </tr>\n",
              "    <tr>\n",
              "      <th>min</th>\n",
              "      <td>0.000000</td>\n",
              "      <td>0.000000</td>\n",
              "      <td>0.000000</td>\n",
              "      <td>0.000000</td>\n",
              "      <td>0.000000</td>\n",
              "      <td>0.000000</td>\n",
              "      <td>0.078000</td>\n",
              "      <td>21.000000</td>\n",
              "      <td>0.000000</td>\n",
              "    </tr>\n",
              "    <tr>\n",
              "      <th>25%</th>\n",
              "      <td>1.000000</td>\n",
              "      <td>99.000000</td>\n",
              "      <td>62.000000</td>\n",
              "      <td>0.000000</td>\n",
              "      <td>0.000000</td>\n",
              "      <td>27.300000</td>\n",
              "      <td>0.243750</td>\n",
              "      <td>24.000000</td>\n",
              "      <td>0.000000</td>\n",
              "    </tr>\n",
              "    <tr>\n",
              "      <th>50%</th>\n",
              "      <td>3.000000</td>\n",
              "      <td>117.000000</td>\n",
              "      <td>72.000000</td>\n",
              "      <td>23.000000</td>\n",
              "      <td>30.500000</td>\n",
              "      <td>32.000000</td>\n",
              "      <td>0.372500</td>\n",
              "      <td>29.000000</td>\n",
              "      <td>0.000000</td>\n",
              "    </tr>\n",
              "    <tr>\n",
              "      <th>75%</th>\n",
              "      <td>6.000000</td>\n",
              "      <td>140.250000</td>\n",
              "      <td>80.000000</td>\n",
              "      <td>32.000000</td>\n",
              "      <td>127.250000</td>\n",
              "      <td>36.600000</td>\n",
              "      <td>0.626250</td>\n",
              "      <td>41.000000</td>\n",
              "      <td>1.000000</td>\n",
              "    </tr>\n",
              "    <tr>\n",
              "      <th>max</th>\n",
              "      <td>17.000000</td>\n",
              "      <td>199.000000</td>\n",
              "      <td>122.000000</td>\n",
              "      <td>99.000000</td>\n",
              "      <td>846.000000</td>\n",
              "      <td>67.100000</td>\n",
              "      <td>2.420000</td>\n",
              "      <td>81.000000</td>\n",
              "      <td>1.000000</td>\n",
              "    </tr>\n",
              "  </tbody>\n",
              "</table>\n",
              "</div>"
            ],
            "text/plain": [
              "       Pregnancies     Glucose  ...         Age     Outcome\n",
              "count   768.000000  768.000000  ...  768.000000  768.000000\n",
              "mean      3.845052  120.894531  ...   33.240885    0.348958\n",
              "std       3.369578   31.972618  ...   11.760232    0.476951\n",
              "min       0.000000    0.000000  ...   21.000000    0.000000\n",
              "25%       1.000000   99.000000  ...   24.000000    0.000000\n",
              "50%       3.000000  117.000000  ...   29.000000    0.000000\n",
              "75%       6.000000  140.250000  ...   41.000000    1.000000\n",
              "max      17.000000  199.000000  ...   81.000000    1.000000\n",
              "\n",
              "[8 rows x 9 columns]"
            ]
          },
          "metadata": {},
          "execution_count": 77
        }
      ]
    },
    {
      "cell_type": "code",
      "metadata": {
        "id": "8z71-qbeZIxh"
      },
      "source": [
        "#Cleaning up anomalies in data and handling null data\n",
        "diabetes_data = attributes.copy(deep = True)\n",
        "diabetes_data[['Glucose','BloodPressure','SkinThickness','Insulin','BMI']] = diabetes_data[['Glucose','BloodPressure','SkinThickness','Insulin','BMI']].replace(0,np.NaN)\n",
        "diabetes_data['Glucose'].fillna(diabetes_data['Glucose'].mean(), inplace = True)\n",
        "diabetes_data['BloodPressure'].fillna(diabetes_data['BloodPressure'].mean(), inplace = True)\n",
        "diabetes_data['SkinThickness'].fillna(diabetes_data['SkinThickness'].median(), inplace = True)\n",
        "diabetes_data['Insulin'].fillna(diabetes_data['Insulin'].median(), inplace = True)\n",
        "diabetes_data['BMI'].fillna(diabetes_data['BMI'].median(), inplace = True)"
      ],
      "execution_count": 78,
      "outputs": []
    },
    {
      "cell_type": "code",
      "metadata": {
        "id": "w2O5p21NvGrs"
      },
      "source": [
        "#split data into 25%test\n",
        "from sklearn.model_selection import train_test_split\n",
        "train_attributes, test_attributes = train_test_split(attributes, test_size=0.25, random_state=0, stratify=attributes['Outcome'])\n",
        "\n",
        "trainAttr = train_attributes[train_attributes.columns[:8]]\n",
        "testAttr = test_attributes[test_attributes.columns[:8]]\n",
        "trainLabel = train_attributes['Outcome']\n",
        "testLabel = test_attributes['Outcome']"
      ],
      "execution_count": 79,
      "outputs": []
    },
    {
      "cell_type": "code",
      "metadata": {
        "id": "mmKzwXAmxpEf"
      },
      "source": [
        "#RandomForest Model Classification\n",
        "from sklearn.ensemble import RandomForestClassifier\n",
        "from sklearn import metrics\n",
        "from sklearn.metrics import accuracy_score\n",
        "randModel = RandomForestClassifier(n_estimators=100,random_state=0) #n_estimators is number of trees in forest\n",
        "randModel.fit(train_attributes, trainLabel)\n",
        "predictedTest = randModel.predict(test_attributes)\n",
        "\n"
      ],
      "execution_count": 80,
      "outputs": []
    },
    {
      "cell_type": "code",
      "metadata": {
        "colab": {
          "base_uri": "https://localhost:8080/"
        },
        "id": "NYWKmu0Fybt3",
        "outputId": "2ea52675-e900-48ea-8432-e6983225e295"
      },
      "source": [
        "\n",
        "print('The accuracy Score is:\\n',metrics.accuracy_score(predictedTest,testLabel))\n",
        "\n",
        "#The model seem to have an accuracy value of 64.06%"
      ],
      "execution_count": 82,
      "outputs": [
        {
          "output_type": "stream",
          "name": "stdout",
          "text": [
            "The accuracy Score is:\n",
            " 1.0\n"
          ]
        }
      ]
    },
    {
      "cell_type": "code",
      "metadata": {
        "id": "3P2cc-Ue39uJ"
      },
      "source": [
        "#reduce the depth of the tree to 3 levels, instead of the original 100 branch tree\n",
        "from sklearn.ensemble import RandomForestRegressor\n",
        "from sklearn.tree import export_graphviz\n",
        "import pydot\n",
        "rf_small = RandomForestRegressor(n_estimators=10, max_depth = 3)\n",
        "rf_small.fit(train_attributes, trainLabel)\n",
        "# Extract the small tree\n",
        "tree_small = rf_small.estimators_[5]\n",
        "# Saving feature names for later use\n",
        "attr_list = list(attributes.columns)\n",
        "# Save the tree as a png image\n",
        "export_graphviz(tree_small, out_file = 'small_tree.dot', feature_names= attr_list, rounded = True, precision = 1)\n",
        "(graph, ) = pydot.graph_from_dot_file('small_tree.dot')\n",
        "graph.write_png('small_tree.png');"
      ],
      "execution_count": 83,
      "outputs": []
    },
    {
      "cell_type": "code",
      "metadata": {
        "colab": {
          "base_uri": "https://localhost:8080/"
        },
        "id": "8deKsWykMdvC",
        "outputId": "ec2811aa-4996-4fcc-b31c-e95b3b945aee"
      },
      "source": [
        "from sklearn.metrics import confusion_matrix\n",
        "\n",
        "print('\\n \\n The RandomForest confusion matrix: \\n', confusion_matrix(predictedTest, testLabel))\n",
        "print('\\n\\n The metrics RandomForest classification report:\\n ', metrics.classification_report(predictedTest, testLabel))\n",
        "\n"
      ],
      "execution_count": 84,
      "outputs": [
        {
          "output_type": "stream",
          "name": "stdout",
          "text": [
            "\n",
            " \n",
            " The RandomForest confusion matrix: \n",
            " [[125   0]\n",
            " [  0  67]]\n",
            "\n",
            "\n",
            " The metrics RandomForest classification report:\n",
            "                precision    recall  f1-score   support\n",
            "\n",
            "           0       1.00      1.00      1.00       125\n",
            "           1       1.00      1.00      1.00        67\n",
            "\n",
            "    accuracy                           1.00       192\n",
            "   macro avg       1.00      1.00      1.00       192\n",
            "weighted avg       1.00      1.00      1.00       192\n",
            "\n"
          ]
        }
      ]
    },
    {
      "cell_type": "code",
      "metadata": {
        "id": "-Nr8Ljfyg1Qn",
        "colab": {
          "base_uri": "https://localhost:8080/",
          "height": 587
        },
        "outputId": "09cf3d12-cb7c-4e6a-9bbf-41c8055057b4"
      },
      "source": [
        "#Area under curve\n",
        "prob = randModel.predict_proba(test_attributes)\n",
        "prob = prob[:, 1]\n",
        "\n",
        "auc = metrics.roc_auc_score(testLabel, prob)\n",
        "print('AUC score is: ',auc)\n",
        "\n",
        "#receiver operating characteristic\n",
        "from sklearn.metrics import plot_roc_curve\n",
        "from sklearn.svm import SVC\n",
        "ax = plt.gca()\n",
        "randModel_disp = plot_roc_curve(randModel, test_attributes, testLabel, ax=ax, alpha=0.8)\n",
        "svc = SVC(random_state=42)\n",
        "svc.fit(test_attributes, testLabel)\n",
        "svc_disp = plot_roc_curve(svc, test_attributes, testLabel)\n",
        "svc_disp.plot(ax=ax, alpha=0.8)\n",
        "\n",
        "#plt.show()"
      ],
      "execution_count": 85,
      "outputs": [
        {
          "output_type": "stream",
          "name": "stdout",
          "text": [
            "AUC score is:  1.0\n"
          ]
        },
        {
          "output_type": "execute_result",
          "data": {
            "text/plain": [
              "<sklearn.metrics._plot.roc_curve.RocCurveDisplay at 0x7f1c660aab90>"
            ]
          },
          "metadata": {},
          "execution_count": 85
        },
        {
          "output_type": "display_data",
          "data": {
            "image/png": "[encoded data removed]",
            "text/plain": [
              "<Figure size 432x288 with 1 Axes>"
            ]
          },
          "metadata": {
            "needs_background": "light"
          }
        },
        {
          "output_type": "display_data",
          "data": {
            "image/png": "[encoded data removed]",
            "text/plain": [
              "<Figure size 432x288 with 1 Axes>"
            ]
          },
          "metadata": {
            "needs_background": "light"
          }
        }
      ]
    },
    {
      "cell_type": "markdown",
      "metadata": {
        "id": "PUlukyb9cplq"
      },
      "source": [
        "KNN Algorithm \n"
      ]
    },
    {
      "cell_type": "code",
      "metadata": {
        "colab": {
          "base_uri": "https://localhost:8080/",
          "height": 425
        },
        "id": "wqdDxYkcctn3",
        "outputId": "4f6fc79c-7bbf-4a28-d1dd-dbb1aa10051a"
      },
      "source": [
        "#normalization range 0 and 1, perplexed as to why some data is -2.6, or 1.5\n",
        "from sklearn.preprocessing import StandardScaler\n",
        "scale_attr = StandardScaler()\n",
        "attr = pd.DataFrame(scale_attr.fit_transform(diabetes_data.drop([\"Outcome\"],axis=1),),\n",
        "                 columns=['Pregnancies', 'Glucose', 'BloodPressure', 'SkinThickness', 'Insulin', 'BMI', 'DiabetesPedigreeFunction', 'Age'])\n",
        "\n",
        "attributes_new= attributes.drop('Outcome', axis = 1)\n",
        "print(scale_attr.transform(attributes_new))\n",
        "attr.head()"
      ],
      "execution_count": 86,
      "outputs": [
        {
          "output_type": "stream",
          "name": "stdout",
          "text": [
            "[[ 0.63994726  0.86510807 -0.03351824 ...  0.16661938  0.46849198\n",
            "   1.4259954 ]\n",
            " [-0.84488505 -1.20616153 -0.52985903 ... -0.85219976 -0.36506078\n",
            "  -0.19067191]\n",
            " [ 1.23388019  2.0158134  -0.69530596 ... -1.33250021  0.60439732\n",
            "  -0.10558415]\n",
            " ...\n",
            " [ 0.3429808  -0.0225789  -0.03351824 ... -0.910418   -0.68519336\n",
            "  -0.27575966]\n",
            " [-0.84488505  0.14180757 -1.02619983 ... -0.34279019 -0.37110101\n",
            "   1.17073215]\n",
            " [-0.84488505 -0.94314317 -0.19896517 ... -0.29912651 -0.47378505\n",
            "  -0.87137393]]\n"
          ]
        },
        {
          "output_type": "execute_result",
          "data": {
            "text/html": [
              "<div>\n",
              "<style scoped>\n",
              "    .dataframe tbody tr th:only-of-type {\n",
              "        vertical-align: middle;\n",
              "    }\n",
              "\n",
              "    .dataframe tbody tr th {\n",
              "        vertical-align: top;\n",
              "    }\n",
              "\n",
              "    .dataframe thead th {\n",
              "        text-align: right;\n",
              "    }\n",
              "</style>\n",
              "<table border=\"1\" class=\"dataframe\">\n",
              "  <thead>\n",
              "    <tr style=\"text-align: right;\">\n",
              "      <th></th>\n",
              "      <th>Pregnancies</th>\n",
              "      <th>Glucose</th>\n",
              "      <th>BloodPressure</th>\n",
              "      <th>SkinThickness</th>\n",
              "      <th>Insulin</th>\n",
              "      <th>BMI</th>\n",
              "      <th>DiabetesPedigreeFunction</th>\n",
              "      <th>Age</th>\n",
              "    </tr>\n",
              "  </thead>\n",
              "  <tbody>\n",
              "    <tr>\n",
              "      <th>0</th>\n",
              "      <td>0.639947</td>\n",
              "      <td>0.865108</td>\n",
              "      <td>-0.033518</td>\n",
              "      <td>0.670643</td>\n",
              "      <td>-0.181541</td>\n",
              "      <td>0.166619</td>\n",
              "      <td>0.468492</td>\n",
              "      <td>1.425995</td>\n",
              "    </tr>\n",
              "    <tr>\n",
              "      <th>1</th>\n",
              "      <td>-0.844885</td>\n",
              "      <td>-1.206162</td>\n",
              "      <td>-0.529859</td>\n",
              "      <td>-0.012301</td>\n",
              "      <td>-0.181541</td>\n",
              "      <td>-0.852200</td>\n",
              "      <td>-0.365061</td>\n",
              "      <td>-0.190672</td>\n",
              "    </tr>\n",
              "    <tr>\n",
              "      <th>2</th>\n",
              "      <td>1.233880</td>\n",
              "      <td>2.015813</td>\n",
              "      <td>-0.695306</td>\n",
              "      <td>-0.012301</td>\n",
              "      <td>-0.181541</td>\n",
              "      <td>-1.332500</td>\n",
              "      <td>0.604397</td>\n",
              "      <td>-0.105584</td>\n",
              "    </tr>\n",
              "    <tr>\n",
              "      <th>3</th>\n",
              "      <td>-0.844885</td>\n",
              "      <td>-1.074652</td>\n",
              "      <td>-0.529859</td>\n",
              "      <td>-0.695245</td>\n",
              "      <td>-0.540642</td>\n",
              "      <td>-0.633881</td>\n",
              "      <td>-0.920763</td>\n",
              "      <td>-1.041549</td>\n",
              "    </tr>\n",
              "    <tr>\n",
              "      <th>4</th>\n",
              "      <td>-1.141852</td>\n",
              "      <td>0.503458</td>\n",
              "      <td>-2.680669</td>\n",
              "      <td>0.670643</td>\n",
              "      <td>0.316566</td>\n",
              "      <td>1.549303</td>\n",
              "      <td>5.484909</td>\n",
              "      <td>-0.020496</td>\n",
              "    </tr>\n",
              "  </tbody>\n",
              "</table>\n",
              "</div>"
            ],
            "text/plain": [
              "   Pregnancies   Glucose  ...  DiabetesPedigreeFunction       Age\n",
              "0     0.639947  0.865108  ...                  0.468492  1.425995\n",
              "1    -0.844885 -1.206162  ...                 -0.365061 -0.190672\n",
              "2     1.233880  2.015813  ...                  0.604397 -0.105584\n",
              "3    -0.844885 -1.074652  ...                 -0.920763 -1.041549\n",
              "4    -1.141852  0.503458  ...                  5.484909 -0.020496\n",
              "\n",
              "[5 rows x 8 columns]"
            ]
          },
          "metadata": {},
          "execution_count": 86
        }
      ]
    },
    {
      "cell_type": "code",
      "metadata": {
        "colab": {
          "base_uri": "https://localhost:8080/"
        },
        "id": "8lgEyPMakHIJ",
        "outputId": "856a858f-3f12-401c-b7fc-0e02657230b5"
      },
      "source": [
        "#from sklearn.preprocessing import StandardScale\n",
        "#normalize data to calculate euclidean distance for knn algorithm\n",
        "#if the weightage is not correctly calculated the euclidean distance will be skewed for some data points\n",
        "from sklearn import preprocessing\n",
        "a = np.array(attributes)\n",
        "scaler = preprocessing.StandardScaler()\n",
        "#transform\n",
        "standrd = scaler.fit_transform(a)\n",
        "standrd\n",
        "\n",
        "ylabel = diabetes_data.Outcome\n",
        "ylabel"
      ],
      "execution_count": 87,
      "outputs": [
        {
          "output_type": "execute_result",
          "data": {
            "text/plain": [
              "0      1\n",
              "1      0\n",
              "2      1\n",
              "3      0\n",
              "4      1\n",
              "      ..\n",
              "763    0\n",
              "764    0\n",
              "765    0\n",
              "766    1\n",
              "767    0\n",
              "Name: Outcome, Length: 768, dtype: int64"
            ]
          },
          "metadata": {},
          "execution_count": 87
        }
      ]
    },
    {
      "cell_type": "code",
      "metadata": {
        "id": "XoQ7E-MrliIu"
      },
      "source": [
        "#Test, Train, Validate after splitting data\n",
        "#split data with test size of 1/3rd of overal data size\n",
        "from sklearn.model_selection import train_test_split\n",
        "Attr_train, Attr_test, label_train, label_test = train_test_split(attr,ylabel,test_size=1/3, random_state=42, stratify=ylabel)"
      ],
      "execution_count": 88,
      "outputs": []
    },
    {
      "cell_type": "code",
      "metadata": {
        "colab": {
          "base_uri": "https://localhost:8080/"
        },
        "id": "80Yv66lUmjYS",
        "outputId": "3c8a186a-2c3b-47ed-c93f-a158a49c34a9"
      },
      "source": [
        "#use knn classifier library, datascientist have to provide the value of k\n",
        "from sklearn.neighbors import KNeighborsClassifier\n",
        "test_calc = []\n",
        "train_calc = []\n",
        "for i in range(1,7):\n",
        "  knn = KNeighborsClassifier(i)\n",
        "  knn.fit(Attr_train, label_train)\n",
        "\n",
        "#need to graphically represent growth\n",
        "  train_calc.append(knn.score(Attr_train, label_train))\n",
        "  test_calc.append(knn.score(Attr_test, label_test))\n",
        "  test_calc\n",
        "\n",
        "#score from using same data point for testing and training will be 100\n",
        "#below you will find score from testing split data points with 1/3 set aside for testing\n",
        "max_dist_test = max(test_calc)\n",
        "i_test_calc = [i for i, v in enumerate(test_calc) if v == max_dist_test]\n",
        "print('Max test score {} % and k = {}'.format(max_dist_test*100, list(map(lambda x: x+1, i_test_calc))))"
      ],
      "execution_count": 90,
      "outputs": [
        {
          "output_type": "stream",
          "name": "stdout",
          "text": [
            "Max test score 74.609375 % and k = [3]\n"
          ]
        }
      ]
    },
    {
      "cell_type": "code",
      "metadata": {
        "colab": {
          "base_uri": "https://localhost:8080/",
          "height": 382
        },
        "id": "rzZEcbtko6NT",
        "outputId": "17b2e971-ac2b-4ca3-bdc9-45f3d3c56050"
      },
      "source": [
        "#plot the knn results of test vs train\n",
        "#below you find mapping insulin, glucose level to outcome of diabetes\n",
        "import seaborn as sns\n",
        "sns.set()\n",
        "sns.lmplot(x=\"Glucose\", y = \"Insulin\", hue = \"Outcome\", data=attributes )\n"
      ],
      "execution_count": 91,
      "outputs": [
        {
          "output_type": "execute_result",
          "data": {
            "text/plain": [
              "<seaborn.axisgrid.FacetGrid at 0x7f1c65ff3c10>"
            ]
          },
          "metadata": {},
          "execution_count": 91
        },
        {
          "output_type": "display_data",
          "data": {
            "image/png": "[encoded data removed]",
            "text/plain": [
              "<Figure size 423.425x360 with 1 Axes>"
            ]
          },
          "metadata": {}
        }
      ]
    },
    {
      "cell_type": "code",
      "metadata": {
        "colab": {
          "base_uri": "https://localhost:8080/",
          "height": 268
        },
        "id": "BteXPA5duPr4",
        "outputId": "a6220015-b566-46de-f709-1698d1b8af01"
      },
      "source": [
        "p = sns.lineplot(range(1,7), train_calc, marker='*', label='Train Calculated')\n",
        "p = sns.lineplot(range(1,7), test_calc, marker='o', label='Test Calculated')"
      ],
      "execution_count": 92,
      "outputs": [
        {
          "output_type": "display_data",
          "data": {
            "image/png": "[encoded data removed]",
            "text/plain": [
              "<Figure size 432x288 with 1 Axes>"
            ]
          },
          "metadata": {}
        }
      ]
    },
    {
      "cell_type": "code",
      "metadata": {
        "colab": {
          "base_uri": "https://localhost:8080/"
        },
        "id": "NJfXMnsotcRX",
        "outputId": "01f97a1e-e40d-4820-bb70-288d8c67ec7f"
      },
      "source": [
        "#When enumerating through test data and calculating distance at each i, it can be found that k=3(3 classification) has the best result\n",
        "knn = KNeighborsClassifier(11)\n",
        "knn.fit(Attr_train, label_train) #run the model of train data\n",
        "knn.score(Attr_test, label_test)#test the model on test data allocated(1/3 size)\n"
      ],
      "execution_count": 93,
      "outputs": [
        {
          "output_type": "execute_result",
          "data": {
            "text/plain": [
              "0.765625"
            ]
          },
          "metadata": {},
          "execution_count": 93
        }
      ]
    },
    {
      "cell_type": "code",
      "metadata": {
        "colab": {
          "base_uri": "https://localhost:8080/",
          "height": 284
        },
        "id": "EyHmm_ettEsT",
        "outputId": "2bba2649-aefd-4365-c8ce-38a7bcfcc5ad"
      },
      "source": [
        "#plot decision boundaries\n",
        "#add number of attributes you have to filler_feature when plotting decision boundaries\n",
        "value = 3\n",
        "width = 3\n",
        "plot_decision_regions(attr.values, ylabel.values, clf=knn, legend=2,\n",
        "                      filler_feature_values={2: value, 3: value, 4:value, 5: value, 6:value, 7:value},\n",
        "                      filler_feature_ranges={2: width, 3: width, 4: width, 5: width, 6: width, 7:width},\n",
        "                      X_highlight=test_attributes.values)\n",
        "plt.title('KNN with Diabetes Data')\n",
        "plt.show()\n"
      ],
      "execution_count": 94,
      "outputs": [
        {
          "output_type": "display_data",
          "data": {
            "image/png": "[encoded data removed]",
            "text/plain": [
              "<Figure size 432x288 with 1 Axes>"
            ]
          },
          "metadata": {}
        }
      ]
    },
    {
      "cell_type": "code",
      "metadata": {
        "colab": {
          "base_uri": "https://localhost:8080/",
          "height": 173
        },
        "id": "lolePSqt0teY",
        "outputId": "f2858047-a92b-44ba-b726-ec7d89e5a844"
      },
      "source": [
        "#confusion matrix\n",
        "from sklearn.metrics import confusion_matrix\n",
        "label_pred = knn.predict(Attr_test)\n",
        "confusion_matrix(label_test, label_pred)\n",
        "pd.crosstab(label_test, label_pred, rownames=['Actual'], colnames=['Predicted'], margins=True)"
      ],
      "execution_count": 95,
      "outputs": [
        {
          "output_type": "execute_result",
          "data": {
            "text/html": [
              "<div>\n",
              "<style scoped>\n",
              "    .dataframe tbody tr th:only-of-type {\n",
              "        vertical-align: middle;\n",
              "    }\n",
              "\n",
              "    .dataframe tbody tr th {\n",
              "        vertical-align: top;\n",
              "    }\n",
              "\n",
              "    .dataframe thead th {\n",
              "        text-align: right;\n",
              "    }\n",
              "</style>\n",
              "<table border=\"1\" class=\"dataframe\">\n",
              "  <thead>\n",
              "    <tr style=\"text-align: right;\">\n",
              "      <th>Predicted</th>\n",
              "      <th>0</th>\n",
              "      <th>1</th>\n",
              "      <th>All</th>\n",
              "    </tr>\n",
              "    <tr>\n",
              "      <th>Actual</th>\n",
              "      <th></th>\n",
              "      <th></th>\n",
              "      <th></th>\n",
              "    </tr>\n",
              "  </thead>\n",
              "  <tbody>\n",
              "    <tr>\n",
              "      <th>0</th>\n",
              "      <td>142</td>\n",
              "      <td>25</td>\n",
              "      <td>167</td>\n",
              "    </tr>\n",
              "    <tr>\n",
              "      <th>1</th>\n",
              "      <td>35</td>\n",
              "      <td>54</td>\n",
              "      <td>89</td>\n",
              "    </tr>\n",
              "    <tr>\n",
              "      <th>All</th>\n",
              "      <td>177</td>\n",
              "      <td>79</td>\n",
              "      <td>256</td>\n",
              "    </tr>\n",
              "  </tbody>\n",
              "</table>\n",
              "</div>"
            ],
            "text/plain": [
              "Predicted    0   1  All\n",
              "Actual                 \n",
              "0          142  25  167\n",
              "1           35  54   89\n",
              "All        177  79  256"
            ]
          },
          "metadata": {},
          "execution_count": 95
        }
      ]
    },
    {
      "cell_type": "code",
      "metadata": {
        "colab": {
          "base_uri": "https://localhost:8080/"
        },
        "id": "kbOiq3BC4Chy",
        "outputId": "30eb54df-a846-4e9b-c7a9-c4b791362a00"
      },
      "source": [
        "from sklearn.metrics import confusion_matrix\n",
        "\n",
        "print('\\n \\n The KNN confusion matrix: \\n', confusion_matrix(label_test, label_pred))\n",
        "print('\\n\\n The metrics KNN classification report:\\n ', metrics.classification_report(label_test, label_pred))\n",
        "\n"
      ],
      "execution_count": 96,
      "outputs": [
        {
          "output_type": "stream",
          "name": "stdout",
          "text": [
            "\n",
            " \n",
            " The KNN confusion matrix: \n",
            " [[142  25]\n",
            " [ 35  54]]\n",
            "\n",
            "\n",
            " The metrics KNN classification report:\n",
            "                precision    recall  f1-score   support\n",
            "\n",
            "           0       0.80      0.85      0.83       167\n",
            "           1       0.68      0.61      0.64        89\n",
            "\n",
            "    accuracy                           0.77       256\n",
            "   macro avg       0.74      0.73      0.73       256\n",
            "weighted avg       0.76      0.77      0.76       256\n",
            "\n"
          ]
        }
      ]
    },
    {
      "cell_type": "code",
      "metadata": {
        "colab": {
          "base_uri": "https://localhost:8080/",
          "height": 587
        },
        "id": "Q4PreIOn4_3_",
        "outputId": "954009bb-6ce0-4101-8db3-7fca5589b418"
      },
      "source": [
        "#Area under curve\n",
        "predictLabel_prob = knn.predict_proba(Attr_test)[:,1]\n",
        "\n",
        "auc = metrics.roc_auc_score(label_test, predictLabel_prob)\n",
        "print('AUC score is: ',auc)\n",
        "\n",
        "#receiver operating characteristic\n",
        "ax = plt.gca()\n",
        "knnModel_disp = plot_roc_curve(knn, Attr_test, label_test, ax=ax, alpha=0.8)\n",
        "svc = SVC(random_state=42)\n",
        "svc.fit(Attr_test, label_test)\n",
        "svc_disp = plot_roc_curve(svc, Attr_test, label_test)\n",
        "svc_disp.plot(ax=ax, alpha=0.8)"
      ],
      "execution_count": 97,
      "outputs": [
        {
          "output_type": "stream",
          "name": "stdout",
          "text": [
            "AUC score is:  0.8193500639171096\n"
          ]
        },
        {
          "output_type": "execute_result",
          "data": {
            "text/plain": [
              "<sklearn.metrics._plot.roc_curve.RocCurveDisplay at 0x7f1c65dd0990>"
            ]
          },
          "metadata": {},
          "execution_count": 97
        },
        {
          "output_type": "display_data",
          "data": {
            "image/png": "[encoded data removed]",
            "text/plain": [
              "<Figure size 432x288 with 1 Axes>"
            ]
          },
          "metadata": {}
        },
        {
          "output_type": "display_data",
          "data": {
            "image/png": "[encoded data removed]",
            "text/plain": [
              "<Figure size 432x288 with 1 Axes>"
            ]
          },
          "metadata": {}
        }
      ]
    },
    {
      "cell_type": "markdown",
      "metadata": {
        "id": "_IewhPE4GjQb"
      },
      "source": [
        "DeepLearning Model : LSTM\n"
      ]
    },
    {
      "cell_type": "code",
      "metadata": {
        "colab": {
          "base_uri": "https://localhost:8080/",
          "height": 404
        },
        "id": "ys63GYLmAL3Q",
        "outputId": "700c087b-f00a-4d85-a0f7-cda372f83ada"
      },
      "source": [
        "from tensorflow.keras import Sequential\n",
        "from keras.layers import Dense#, LSTM, GRU, SimpleRNN\n",
        "from keras.layers import LSTM\n",
        "from sklearn.preprocessing import MinMaxScaler\n",
        "\n",
        "lstm_dataset = np.array(attr)\n",
        "lstm_dataset.reshape(-1,1) #normalizing\n",
        "plt.plot(lstm_dataset) #visualize\n",
        "\n"
      ],
      "execution_count": 99,
      "outputs": [
        {
          "output_type": "execute_result",
          "data": {
            "text/plain": [
              "[<matplotlib.lines.Line2D at 0x7f1c65d41a90>,\n",
              " <matplotlib.lines.Line2D at 0x7f1c65d41cd0>,\n",
              " <matplotlib.lines.Line2D at 0x7f1c65d41e90>,\n",
              " <matplotlib.lines.Line2D at 0x7f1c65ccb090>,\n",
              " <matplotlib.lines.Line2D at 0x7f1c65ccb250>,\n",
              " <matplotlib.lines.Line2D at 0x7f1c65ccb410>,\n",
              " <matplotlib.lines.Line2D at 0x7f1c65ccb650>,\n",
              " <matplotlib.lines.Line2D at 0x7f1c65ccb810>]"
            ]
          },
          "metadata": {},
          "execution_count": 99
        },
        {
          "output_type": "display_data",
          "data": {
            "image/png": "[encoded data removed]",
            "text/plain": [
              "<Figure size 432x288 with 1 Axes>"
            ]
          },
          "metadata": {}
        }
      ]
    },
    {
      "cell_type": "code",
      "metadata": {
        "id": "ZI-1GLawEZuL"
      },
      "source": [
        "#machine learning works better if data is scaled\n",
        "scaler = MinMaxScaler()\n",
        "lstm_dataset = scaler.fit_transform(lstm_dataset)"
      ],
      "execution_count": 100,
      "outputs": []
    },
    {
      "cell_type": "code",
      "metadata": {
        "id": "FXxTGi8eEjPz"
      },
      "source": [
        "#split data into training and testing\n",
        "test_size = len(lstm_dataset) - int(len(lstm_dataset) * 0.75) #total size of dataset minus 75% training set size\n",
        "trainingset=lstm_dataset[:int(len(lstm_dataset) * 0.75),:]\n",
        "testingset=lstm_dataset[int(len(lstm_dataset) * 0.75):142,:]\n",
        "def getdata(data,lookback):\n",
        "    X,Y=[],[]\n",
        "    for i in range(len(data)-lookback-1):\n",
        "        X.append(data[i:i+lookback,0])\n",
        "        Y.append(data[i+lookback,0])\n",
        "    return np.array(X),np.array(Y).reshape(-1,1)\n",
        "lookback=1\n",
        "X_train,y_train=getdata(trainingset,lookback)\n",
        "X_test,y_test=getdata(testingset,lookback)\n",
        "X_train=X_train.reshape(X_train.shape[0],X_train.shape[1],1)\n",
        "#X_test=X_test.reshape(X_test.shape[0],X_test.shape[1],1)\n"
      ],
      "execution_count": 101,
      "outputs": []
    },
    {
      "cell_type": "code",
      "metadata": {
        "colab": {
          "base_uri": "https://localhost:8080/"
        },
        "id": "d66_si_wE9pv",
        "outputId": "49b38d15-2512-4dde-8f75-6a38d0880679"
      },
      "source": [
        "deepLearnModel = Sequential()\n",
        "deepLearnModel.add(LSTM(5,input_shape=(1,lookback))) #5 neurons of first layer of neural network\n",
        "deepLearnModel.add(Dense(1))\n",
        "deepLearnModel.compile(loss='mean_squared_error', optimizer='adam',run_eagerly=True) #To avoid unexpected result of deepLearnModel.predict() function add run_eagerly\n",
        "deepLearnModel.summary()"
      ],
      "execution_count": 102,
      "outputs": [
        {
          "output_type": "stream",
          "name": "stdout",
          "text": [
            "Model: \"sequential_8\"\n",
            "_________________________________________________________________\n",
            " Layer (type)                Output Shape              Param #   \n",
            "=================================================================\n",
            " lstm_8 (LSTM)               (None, 5)                 140       \n",
            "                                                                 \n",
            " dense_7 (Dense)             (None, 1)                 6         \n",
            "                                                                 \n",
            "=================================================================\n",
            "Total params: 146\n",
            "Trainable params: 146\n",
            "Non-trainable params: 0\n",
            "_________________________________________________________________\n"
          ]
        }
      ]
    },
    {
      "cell_type": "code",
      "metadata": {
        "colab": {
          "base_uri": "https://localhost:8080/"
        },
        "id": "-iQx53n0FsOx",
        "outputId": "7cadab5e-7bad-4c20-9674-a4b6af04669b"
      },
      "source": [
        "#model is ready for training\n",
        "\n",
        "deepLearnModel.build(input_shape=(5, 42))#if you dont build the function before fit it results in the following error: \"ValueError: Creating variables on a non-first call to a function decorated with tf.function.\"\n",
        "deepLearnModel.fit(X_train, y_train, epochs=10, batch_size=1) \n"
      ],
      "execution_count": 103,
      "outputs": [
        {
          "output_type": "stream",
          "name": "stdout",
          "text": [
            "Epoch 1/10\n",
            "574/574 [==============================] - 10s 18ms/step - loss: 0.0476\n",
            "Epoch 2/10\n",
            "574/574 [==============================] - 10s 18ms/step - loss: 0.0389\n",
            "Epoch 3/10\n",
            "574/574 [==============================] - 11s 18ms/step - loss: 0.0390\n",
            "Epoch 4/10\n",
            "574/574 [==============================] - 10s 18ms/step - loss: 0.0389\n",
            "Epoch 5/10\n",
            "574/574 [==============================] - 10s 18ms/step - loss: 0.0390\n",
            "Epoch 6/10\n",
            "574/574 [==============================] - 10s 18ms/step - loss: 0.0389\n",
            "Epoch 7/10\n",
            "574/574 [==============================] - 10s 18ms/step - loss: 0.0388\n",
            "Epoch 8/10\n",
            "574/574 [==============================] - 11s 18ms/step - loss: 0.0389\n",
            "Epoch 9/10\n",
            "574/574 [==============================] - 11s 19ms/step - loss: 0.0388\n",
            "Epoch 10/10\n",
            "574/574 [==============================] - 10s 18ms/step - loss: 0.0389\n"
          ]
        },
        {
          "output_type": "execute_result",
          "data": {
            "text/plain": [
              "<keras.callbacks.History at 0x7f1c65b95790>"
            ]
          },
          "metadata": {},
          "execution_count": 103
        }
      ]
    },
    {
      "cell_type": "code",
      "metadata": {
        "colab": {
          "base_uri": "https://localhost:8080/",
          "height": 392
        },
        "id": "P4RYuWMTI2BF",
        "outputId": "a7b197ad-2379-4316-c3d8-dfc92857253a"
      },
      "source": [
        "y_pred=deepLearnModel.predict(X_test)\n",
        "y_test=deepLearnModel.inverse_transform(y_test)\n",
        "y_pred=scaler.inverse_transform(y_pred)"
      ],
      "execution_count": 73,
      "outputs": [
        {
          "output_type": "error",
          "ename": "ValueError",
          "evalue": "ignored",
          "traceback": [
            "\u001b[0;31m---------------------------------------------------------------------------\u001b[0m",
            "\u001b[0;31mValueError\u001b[0m                                Traceback (most recent call last)",
            "\u001b[0;32m<ipython-input-73-7a249036b8a8>\u001b[0m in \u001b[0;36m<module>\u001b[0;34m()\u001b[0m\n\u001b[0;32m----> 1\u001b[0;31m \u001b[0my_pred\u001b[0m\u001b[0;34m=\u001b[0m\u001b[0mdeepLearnModel\u001b[0m\u001b[0;34m.\u001b[0m\u001b[0mpredict\u001b[0m\u001b[0;34m(\u001b[0m\u001b[0mX_test\u001b[0m\u001b[0;34m)\u001b[0m\u001b[0;34m\u001b[0m\u001b[0;34m\u001b[0m\u001b[0m\n\u001b[0m\u001b[1;32m      2\u001b[0m \u001b[0my_test\u001b[0m\u001b[0;34m=\u001b[0m\u001b[0mdeepLearnModel\u001b[0m\u001b[0;34m.\u001b[0m\u001b[0minverse_transform\u001b[0m\u001b[0;34m(\u001b[0m\u001b[0my_test\u001b[0m\u001b[0;34m)\u001b[0m\u001b[0;34m\u001b[0m\u001b[0;34m\u001b[0m\u001b[0m\n\u001b[1;32m      3\u001b[0m \u001b[0my_pred\u001b[0m\u001b[0;34m=\u001b[0m\u001b[0mscaler\u001b[0m\u001b[0;34m.\u001b[0m\u001b[0minverse_transform\u001b[0m\u001b[0;34m(\u001b[0m\u001b[0my_pred\u001b[0m\u001b[0;34m)\u001b[0m\u001b[0;34m\u001b[0m\u001b[0;34m\u001b[0m\u001b[0m\n",
            "\u001b[0;32m/usr/local/lib/python3.7/dist-packages/keras/utils/traceback_utils.py\u001b[0m in \u001b[0;36merror_handler\u001b[0;34m(*args, **kwargs)\u001b[0m\n\u001b[1;32m     65\u001b[0m     \u001b[0;32mexcept\u001b[0m \u001b[0mException\u001b[0m \u001b[0;32mas\u001b[0m \u001b[0me\u001b[0m\u001b[0;34m:\u001b[0m  \u001b[0;31m# pylint: disable=broad-except\u001b[0m\u001b[0;34m\u001b[0m\u001b[0;34m\u001b[0m\u001b[0m\n\u001b[1;32m     66\u001b[0m       \u001b[0mfiltered_tb\u001b[0m \u001b[0;34m=\u001b[0m \u001b[0m_process_traceback_frames\u001b[0m\u001b[0;34m(\u001b[0m\u001b[0me\u001b[0m\u001b[0;34m.\u001b[0m\u001b[0m__traceback__\u001b[0m\u001b[0;34m)\u001b[0m\u001b[0;34m\u001b[0m\u001b[0;34m\u001b[0m\u001b[0m\n\u001b[0;32m---> 67\u001b[0;31m       \u001b[0;32mraise\u001b[0m \u001b[0me\u001b[0m\u001b[0;34m.\u001b[0m\u001b[0mwith_traceback\u001b[0m\u001b[0;34m(\u001b[0m\u001b[0mfiltered_tb\u001b[0m\u001b[0;34m)\u001b[0m \u001b[0;32mfrom\u001b[0m \u001b[0;32mNone\u001b[0m\u001b[0;34m\u001b[0m\u001b[0;34m\u001b[0m\u001b[0m\n\u001b[0m\u001b[1;32m     68\u001b[0m     \u001b[0;32mfinally\u001b[0m\u001b[0;34m:\u001b[0m\u001b[0;34m\u001b[0m\u001b[0;34m\u001b[0m\u001b[0m\n\u001b[1;32m     69\u001b[0m       \u001b[0;32mdel\u001b[0m \u001b[0mfiltered_tb\u001b[0m\u001b[0;34m\u001b[0m\u001b[0;34m\u001b[0m\u001b[0m\n",
            "\u001b[0;32m/usr/local/lib/python3.7/dist-packages/keras/engine/training.py\u001b[0m in \u001b[0;36mpredict\u001b[0;34m(self, x, batch_size, verbose, steps, callbacks, max_queue_size, workers, use_multiprocessing)\u001b[0m\n\u001b[1;32m   1802\u001b[0m             \u001b[0mcallbacks\u001b[0m\u001b[0;34m.\u001b[0m\u001b[0mon_predict_batch_end\u001b[0m\u001b[0;34m(\u001b[0m\u001b[0mend_step\u001b[0m\u001b[0;34m,\u001b[0m \u001b[0;34m{\u001b[0m\u001b[0;34m'outputs'\u001b[0m\u001b[0;34m:\u001b[0m \u001b[0mbatch_outputs\u001b[0m\u001b[0;34m}\u001b[0m\u001b[0;34m)\u001b[0m\u001b[0;34m\u001b[0m\u001b[0;34m\u001b[0m\u001b[0m\n\u001b[1;32m   1803\u001b[0m       \u001b[0;32mif\u001b[0m \u001b[0mbatch_outputs\u001b[0m \u001b[0;32mis\u001b[0m \u001b[0;32mNone\u001b[0m\u001b[0;34m:\u001b[0m\u001b[0;34m\u001b[0m\u001b[0;34m\u001b[0m\u001b[0m\n\u001b[0;32m-> 1804\u001b[0;31m         raise ValueError('Unexpected result of `predict_function` '\n\u001b[0m\u001b[1;32m   1805\u001b[0m                          \u001b[0;34m'(Empty batch_outputs). Please use '\u001b[0m\u001b[0;34m\u001b[0m\u001b[0;34m\u001b[0m\u001b[0m\n\u001b[1;32m   1806\u001b[0m                          \u001b[0;34m'`Model.compile(..., run_eagerly=True)`, or '\u001b[0m\u001b[0;34m\u001b[0m\u001b[0;34m\u001b[0m\u001b[0m\n",
            "\u001b[0;31mValueError\u001b[0m: Unexpected result of `predict_function` (Empty batch_outputs). Please use `Model.compile(..., run_eagerly=True)`, or `tf.config.run_functions_eagerly(True)` for more information of where went wrong, or file a issue/bug to `tf.keras`."
          ]
        }
      ]
    }
  ]
}